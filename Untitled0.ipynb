{
  "nbformat": 4,
  "nbformat_minor": 0,
  "metadata": {
    "colab": {
      "provenance": [],
      "authorship_tag": "ABX9TyPrluvz+6eZMMkB/bqzGgA4",
      "include_colab_link": true
    },
    "kernelspec": {
      "name": "python3",
      "display_name": "Python 3"
    },
    "language_info": {
      "name": "python"
    }
  },
  "cells": [
    {
      "cell_type": "markdown",
      "metadata": {
        "id": "view-in-github",
        "colab_type": "text"
      },
      "source": [
        "<a href=\"https://colab.research.google.com/github/VandanGupte101727/MAN-CITY-VS-WOLVES-/blob/main/Untitled0.ipynb\" target=\"_parent\"><img src=\"https://colab.research.google.com/assets/colab-badge.svg\" alt=\"Open In Colab\"/></a>"
      ]
    },
    {
      "cell_type": "code",
      "source": [
        "import pandas as pd\n",
        "from sklearn.model_selection import train_test_split\n",
        "from sklearn.preprocessing import LabelEncoder\n",
        "from sklearn.ensemble import RandomForestClassifier, RandomForestRegressor\n",
        "from sklearn.metrics import accuracy_score, mean_squared_error\n",
        "\n",
        "url1 = \"https://www.football-data.co.uk/mmz4281/2223/E0.csv\"\n",
        "url2 = \"https://www.football-data.co.uk/mmz4281/2324/E0.csv\"\n",
        "url3 = \"https://www.football-data.co.uk/mmz4281/2425/E0.csv\"\n",
        "\n",
        "df1 = pd.read_csv(url1)\n",
        "df2 = pd.read_csv(url2)\n",
        "df3 = pd.read_csv(url3)\n",
        "\n",
        "common_cols = list(set.intersection(*[set(df.columns) for df in [df1, df2, df3]]))\n",
        "df1, df2, df3 = df1[common_cols], df2[common_cols], df3[common_cols]\n",
        "df = pd.concat([df1, df2, df3], ignore_index=True)\n",
        "df.drop_duplicates(inplace=True)\n",
        "df.dropna(inplace=True)\n",
        "\n",
        "label_encoders = {}\n",
        "for col in df.select_dtypes(include=['object']).columns:\n",
        "    le = LabelEncoder()\n",
        "    df[col] = le.fit_transform(df[col])\n",
        "    label_encoders[col] = le\n",
        "\n",
        "X_class = df.drop(columns=['FTHG', 'FTAG', 'FTR'])\n",
        "y_class = df['FTR']\n",
        "\n",
        "X_train_c, X_test_c, y_train_c, y_test_c = train_test_split(X_class, y_class, test_size=0.2, random_state=42)\n",
        "\n",
        "clf = RandomForestClassifier(\n",
        "    n_estimators=300,\n",
        "    max_depth=5,\n",
        "    min_samples_split=5,\n",
        "    min_samples_leaf=3,\n",
        "    random_state=42\n",
        ")\n",
        "clf.fit(X_train_c, y_train_c)\n",
        "\n",
        "train_acc = accuracy_score(y_train_c, clf.predict(X_train_c))\n",
        "test_acc = accuracy_score(y_test_c, clf.predict(X_test_c))\n",
        "\n",
        "print(f\"Train Accuracy (Match Outcome): {train_acc:.2f}\")\n",
        "print(f\"Test Accuracy (Match Outcome): {test_acc:.2f}\")\n",
        "\n",
        "X_reg = df.drop(columns=['FTHG', 'FTAG'])\n",
        "y_home, y_away = df['FTHG'], df['FTAG']\n",
        "\n",
        "X_train_r, X_test_r, y_train_home, y_test_home = train_test_split(X_reg, y_home, test_size=0.2, random_state=42)\n",
        "_, _, y_train_away, y_test_away = train_test_split(X_reg, y_away, test_size=0.2, random_state=42)\n",
        "\n",
        "reg_home = RandomForestRegressor(\n",
        "    n_estimators=300,\n",
        "    max_depth=5,\n",
        "    min_samples_split=5,\n",
        "    min_samples_leaf=3,\n",
        "    random_state=42\n",
        ")\n",
        "reg_away = RandomForestRegressor(\n",
        "    n_estimators=300,\n",
        "    max_depth=5,\n",
        "    min_samples_split=5,\n",
        "    min_samples_leaf=3,\n",
        "    random_state=42\n",
        ")\n",
        "\n",
        "reg_home.fit(X_train_r, y_train_home)\n",
        "reg_away.fit(X_train_r, y_train_away)\n",
        "\n",
        "mse_home = mean_squared_error(y_test_home, reg_home.predict(X_test_r))\n",
        "mse_away = mean_squared_error(y_test_away, reg_away.predict(X_test_r))\n",
        "\n",
        "print(f\"Home Goals MSE: {mse_home:.2f}\")\n",
        "print(f\"Away Goals MSE: {mse_away:.2f}\")\n",
        "\n",
        "sample_match_data = {col: [0] for col in X_train_r.columns}\n",
        "sample_match_data['HomeTeam'] = [label_encoders['HomeTeam'].transform(['Man City'])[0]]\n",
        "sample_match_data['AwayTeam'] = [label_encoders['AwayTeam'].transform(['Wolves'])[0]]\n",
        "sample_match = pd.DataFrame(sample_match_data)\n",
        "\n",
        "pred_result = clf.predict(sample_match[X_train_c.columns])[0]\n",
        "pred_home_goals = reg_home.predict(sample_match)[0]\n",
        "pred_away_goals = reg_away.predict(sample_match)[0]\n",
        "\n",
        "pred_result_decoded = label_encoders['FTR'].inverse_transform([pred_result])[0]\n",
        "print(f\"Predicted Outcome: {pred_result_decoded}\")\n",
        "print(f\"Predicted Score: {int(round(pred_home_goals))} - {int(round(pred_away_goals))}\")\n"
      ],
      "metadata": {
        "colab": {
          "base_uri": "https://localhost:8080/"
        },
        "id": "3WqJxX_kT9F8",
        "outputId": "3531d3e3-49bd-4a88-d5ff-a4f8d074514e"
      },
      "execution_count": 4,
      "outputs": [
        {
          "output_type": "stream",
          "name": "stdout",
          "text": [
            "Train Accuracy (Match Outcome): 0.74\n",
            "Test Accuracy (Match Outcome): 0.64\n",
            "Home Goals MSE: 0.51\n",
            "Away Goals MSE: 0.44\n",
            "Predicted Outcome: A\n",
            "Predicted Score: 1 - 2\n"
          ]
        }
      ]
    }
  ]
}